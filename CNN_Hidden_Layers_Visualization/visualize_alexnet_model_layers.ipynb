{
  "nbformat": 4,
  "nbformat_minor": 0,
  "metadata": {
    "colab": {
      "name": "visualize_alexnet_model_layers.ipynb",
      "provenance": []
    },
    "kernelspec": {
      "name": "python3",
      "display_name": "Python 3"
    },
    "language_info": {
      "name": "python"
    },
    "accelerator": "GPU"
  },
  "cells": [
    {
      "cell_type": "markdown",
      "source": [
        "**Tensorflow ile çalışan derin öğrenme modelinde her katman sonrası uygulanan filtre ile ayırt edilen özelliği görmek için yazılmıştır.**"
      ],
      "metadata": {
        "id": "M40yDLjlHFgF"
      }
    },
    {
      "cell_type": "code",
      "execution_count": 1,
      "metadata": {
        "colab": {
          "base_uri": "https://localhost:8080/",
          "height": 36
        },
        "id": "xkOesYvcGxSY",
        "outputId": "7d618fb9-1ccc-4658-b800-4b8e2d3d446f"
      },
      "outputs": [
        {
          "output_type": "execute_result",
          "data": {
            "text/plain": [
              "'2.8.2'"
            ],
            "application/vnd.google.colaboratory.intrinsic+json": {
              "type": "string"
            }
          },
          "metadata": {},
          "execution_count": 1
        }
      ],
      "source": [
        "import tensorflow as tf\n",
        "tf.__version__"
      ]
    },
    {
      "cell_type": "markdown",
      "source": [
        "tensorflow için yazılmış Alexnet modeli;"
      ],
      "metadata": {
        "id": "jgrCqxBkHlwb"
      }
    },
    {
      "cell_type": "code",
      "source": [
        "model = tf.keras.models.Sequential([\n",
        "                                    # layer 1\n",
        "  tf.keras.layers.Conv2D(96, (11,11),strides=(4,4), activation='relu', input_shape=(227, 227, 3), name=\"conv_1\"),\n",
        "  tf.keras.layers.BatchNormalization(),\n",
        "  tf.keras.layers.MaxPooling2D(3, strides=(2,2), name=\"maxpooling_1\"),\n",
        "    # layer 2\n",
        "  tf.keras.layers.Conv2D(256, (5,5),strides=(1,1), activation='relu',padding=\"same\", name=\"conv_2\"),\n",
        "  tf.keras.layers.BatchNormalization(),\n",
        "  tf.keras.layers.MaxPooling2D(3, strides=(2,2), name=\"maxpooling_2\"),\n",
        "     # layer 3\n",
        "  tf.keras.layers.Conv2D(384, (3,3),strides=(1,1), activation='relu',padding=\"same\", name=\"conv_3\"),\n",
        "  tf.keras.layers.BatchNormalization(),\n",
        "    # layer 4\n",
        "  tf.keras.layers.Conv2D(384, (3,3),strides=(1,1), activation='relu',padding=\"same\", name=\"conv_4\"),\n",
        "  tf.keras.layers.BatchNormalization(),\n",
        "    # layer 5\n",
        "  tf.keras.layers.Conv2D(256, (3,3), strides=(1,1), activation='relu',padding=\"same\", name=\"conv_5\"),\n",
        "  tf.keras.layers.BatchNormalization(),\n",
        "  tf.keras.layers.MaxPooling2D(3, strides=(2, 2), name=\"maxpooling_3\"),\n",
        "\n",
        "])\n",
        "\n",
        "model.build()\n",
        "model.summary()"
      ],
      "metadata": {
        "colab": {
          "base_uri": "https://localhost:8080/"
        },
        "id": "gGN6gDyDHg5r",
        "outputId": "df579f19-21d9-4ec7-853b-92cd3bbad318"
      },
      "execution_count": 3,
      "outputs": [
        {
          "output_type": "stream",
          "name": "stdout",
          "text": [
            "Model: \"sequential_1\"\n",
            "_________________________________________________________________\n",
            " Layer (type)                Output Shape              Param #   \n",
            "=================================================================\n",
            " conv_1 (Conv2D)             (None, 55, 55, 96)        34944     \n",
            "                                                                 \n",
            " batch_normalization_5 (Batc  (None, 55, 55, 96)       384       \n",
            " hNormalization)                                                 \n",
            "                                                                 \n",
            " maxpooling_1 (MaxPooling2D)  (None, 27, 27, 96)       0         \n",
            "                                                                 \n",
            " conv_2 (Conv2D)             (None, 27, 27, 256)       614656    \n",
            "                                                                 \n",
            " batch_normalization_6 (Batc  (None, 27, 27, 256)      1024      \n",
            " hNormalization)                                                 \n",
            "                                                                 \n",
            " maxpooling_2 (MaxPooling2D)  (None, 13, 13, 256)      0         \n",
            "                                                                 \n",
            " conv_3 (Conv2D)             (None, 13, 13, 384)       885120    \n",
            "                                                                 \n",
            " batch_normalization_7 (Batc  (None, 13, 13, 384)      1536      \n",
            " hNormalization)                                                 \n",
            "                                                                 \n",
            " conv_4 (Conv2D)             (None, 13, 13, 384)       1327488   \n",
            "                                                                 \n",
            " batch_normalization_8 (Batc  (None, 13, 13, 384)      1536      \n",
            " hNormalization)                                                 \n",
            "                                                                 \n",
            " conv_5 (Conv2D)             (None, 13, 13, 256)       884992    \n",
            "                                                                 \n",
            " batch_normalization_9 (Batc  (None, 13, 13, 256)      1024      \n",
            " hNormalization)                                                 \n",
            "                                                                 \n",
            " maxpooling_3 (MaxPooling2D)  (None, 6, 6, 256)        0         \n",
            "                                                                 \n",
            "=================================================================\n",
            "Total params: 3,752,704\n",
            "Trainable params: 3,749,952\n",
            "Non-trainable params: 2,752\n",
            "_________________________________________________________________\n"
          ]
        }
      ]
    },
    {
      "cell_type": "markdown",
      "source": [
        "input resimlerini ve size ayarlarını yapıyoruz."
      ],
      "metadata": {
        "id": "AA5_WLzgPHFU"
      }
    },
    {
      "cell_type": "code",
      "source": [
        "\n",
        "img_single = tf.io.read_file(\"/content/drive/MyDrive/kedi.jpg\")\n",
        "\n",
        "img_single = tf.io.decode_jpeg(img_single, channels=0)\n",
        "\n",
        "img_single = tf.image.convert_image_dtype(img_single, dtype=tf.float32)\n",
        "\n",
        "img_single = tf.image.resize(img_single, [227,227])\n",
        "\n",
        "\n",
        "img_single = tf.reshape(img_single, [1, 227, 227, 3])\n",
        "print(img_single.shape)\n"
      ],
      "metadata": {
        "colab": {
          "base_uri": "https://localhost:8080/"
        },
        "id": "P0Uwz5MhJSkG",
        "outputId": "1bb57601-124b-483a-9982-fdadee432b52"
      },
      "execution_count": 27,
      "outputs": [
        {
          "output_type": "stream",
          "name": "stdout",
          "text": [
            "(1, 227, 227, 3)\n"
          ]
        }
      ]
    },
    {
      "cell_type": "code",
      "source": [
        "prediction = model.predict(img_single)\n",
        "prediction[0].shape"
      ],
      "metadata": {
        "colab": {
          "base_uri": "https://localhost:8080/"
        },
        "id": "xzF484OIPGWE",
        "outputId": "ab67cb95-f7d0-4792-9887-53492c252a37"
      },
      "execution_count": 28,
      "outputs": [
        {
          "output_type": "execute_result",
          "data": {
            "text/plain": [
              "(6, 6, 256)"
            ]
          },
          "metadata": {},
          "execution_count": 28
        }
      ]
    },
    {
      "cell_type": "code",
      "source": [
        "import matplotlib.pyplot as plt\n",
        "plt.imshow(prediction[0][:,:,252])  #son filtreden çıkan [6,6,256] boyutundaki filtre çıktılarını burada görüyoruz.\n",
        "plt.show()"
      ],
      "metadata": {
        "colab": {
          "base_uri": "https://localhost:8080/",
          "height": 265
        },
        "id": "DZnyRT0lTj1R",
        "outputId": "8ee1d2ab-4689-4c46-c0df-d7c6f4f4deb5"
      },
      "execution_count": 32,
      "outputs": [
        {
          "output_type": "display_data",
          "data": {
            "text/plain": [
              "<Figure size 432x288 with 1 Axes>"
            ],
            "image/png": "[encoded data removed]"
          },
          "metadata": {
            "needs_background": "light"
          }
        }
      ]
    },
    {
      "cell_type": "code",
      "source": [
        "filter_count = 64\n",
        "index = 1\n",
        "plt.figure(figsize=(20,20))\n",
        "for _ in range(8):\n",
        "  for _ in range(8):\n",
        "    plt.subplot(8,8,index)\n",
        "    plt.axis(\"off\")\n",
        "    plt.imshow(prediction[0, :, :, index-1 ])\n",
        "    index +=1"
      ],
      "metadata": {
        "colab": {
          "base_uri": "https://localhost:8080/",
          "height": 1000
        },
        "id": "U_1_F7OlVL5x",
        "outputId": "fe7a9013-659d-4921-87ba-17dc45f7cb9d"
      },
      "execution_count": 25,
      "outputs": [
        {
          "output_type": "display_data",
          "data": {
            "text/plain": [
              "<Figure size 1440x1440 with 64 Axes>"
            ],
            "image/png": "[encoded data removed]"
          },
          "metadata": {
            "needs_background": "light"
          }
        }
      ]
    },
    {
      "cell_type": "code",
      "source": [
        ""
      ],
      "metadata": {
        "id": "4eBR22fXDgme"
      },
      "execution_count": null,
      "outputs": []
    }
  ]
}